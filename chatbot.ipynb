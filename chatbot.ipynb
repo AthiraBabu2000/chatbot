{
  "cells": [
    {
      "cell_type": "markdown",
      "metadata": {
        "id": "view-in-github",
        "colab_type": "text"
      },
      "source": [
        "<a href=\"https://colab.research.google.com/github/AthiraBabu2000/chatbot/blob/main/chatbot.ipynb\" target=\"_parent\"><img src=\"https://colab.research.google.com/assets/colab-badge.svg\" alt=\"Open In Colab\"/></a>"
      ]
    },
    {
      "cell_type": "code",
      "execution_count": null,
      "metadata": {
        "colab": {
          "base_uri": "https://localhost:8080/"
        },
        "id": "yOU4xCyJrXwS",
        "outputId": "c21a79d2-6abf-489e-ba8d-88bbd4816c39"
      },
      "outputs": [
        {
          "output_type": "stream",
          "name": "stdout",
          "text": [
            "Looking in indexes: https://pypi.org/simple, https://us-python.pkg.dev/colab-wheels/public/simple/\n",
            "Requirement already satisfied: tflearn in /usr/local/lib/python3.10/dist-packages (0.5.0)\n",
            "Requirement already satisfied: numpy in /usr/local/lib/python3.10/dist-packages (from tflearn) (1.22.4)\n",
            "Requirement already satisfied: six in /usr/local/lib/python3.10/dist-packages (from tflearn) (1.16.0)\n",
            "Requirement already satisfied: Pillow in /usr/local/lib/python3.10/dist-packages (from tflearn) (8.4.0)\n",
            "Looking in indexes: https://pypi.org/simple, https://us-python.pkg.dev/colab-wheels/public/simple/\n",
            "Collecting flask-ngrok\n",
            "  Downloading flask_ngrok-0.0.25-py3-none-any.whl (3.1 kB)\n",
            "Requirement already satisfied: requests in /usr/local/lib/python3.10/dist-packages (from flask-ngrok) (2.27.1)\n",
            "Requirement already satisfied: Flask>=0.8 in /usr/local/lib/python3.10/dist-packages (from flask-ngrok) (2.2.4)\n",
            "Requirement already satisfied: Werkzeug>=2.2.2 in /usr/local/lib/python3.10/dist-packages (from Flask>=0.8->flask-ngrok) (2.3.0)\n",
            "Requirement already satisfied: click>=8.0 in /usr/local/lib/python3.10/dist-packages (from Flask>=0.8->flask-ngrok) (8.1.3)\n",
            "Requirement already satisfied: itsdangerous>=2.0 in /usr/local/lib/python3.10/dist-packages (from Flask>=0.8->flask-ngrok) (2.1.2)\n",
            "Requirement already satisfied: Jinja2>=3.0 in /usr/local/lib/python3.10/dist-packages (from Flask>=0.8->flask-ngrok) (3.1.2)\n",
            "Requirement already satisfied: idna<4,>=2.5 in /usr/local/lib/python3.10/dist-packages (from requests->flask-ngrok) (3.4)\n",
            "Requirement already satisfied: certifi>=2017.4.17 in /usr/local/lib/python3.10/dist-packages (from requests->flask-ngrok) (2022.12.7)\n",
            "Requirement already satisfied: urllib3<1.27,>=1.21.1 in /usr/local/lib/python3.10/dist-packages (from requests->flask-ngrok) (1.26.15)\n",
            "Requirement already satisfied: charset-normalizer~=2.0.0 in /usr/local/lib/python3.10/dist-packages (from requests->flask-ngrok) (2.0.12)\n",
            "Requirement already satisfied: MarkupSafe>=2.0 in /usr/local/lib/python3.10/dist-packages (from Jinja2>=3.0->Flask>=0.8->flask-ngrok) (2.1.2)\n",
            "Installing collected packages: flask-ngrok\n",
            "Successfully installed flask-ngrok-0.0.25\n"
          ]
        }
      ],
      "source": [
        "#Used in Tensorflow Model\n",
        "import numpy as np\n",
        "import tensorflow as tf\n",
        "!pip install tflearn\n",
        "!pip install flask-ngrok\n"
      ]
    },
    {
      "cell_type": "code",
      "execution_count": null,
      "metadata": {
        "id": "Y35w1ha8r_m7",
        "colab": {
          "base_uri": "https://localhost:8080/"
        },
        "outputId": "10d65c0e-5fae-4e7f-e10b-8972cdb53838"
      },
      "outputs": [
        {
          "output_type": "stream",
          "name": "stderr",
          "text": [
            "WARNING:tensorflow:From /usr/local/lib/python3.10/dist-packages/tensorflow/python/compat/v2_compat.py:107: disable_resource_variables (from tensorflow.python.ops.variable_scope) is deprecated and will be removed in a future version.\n",
            "Instructions for updating:\n",
            "non-resource variables are not supported in the long term\n"
          ]
        }
      ],
      "source": [
        "import tflearn\n",
        "import random\n",
        "\n",
        "#Usde to for Contextualisation and Other NLP Tasks.\n",
        "import nltk\n",
        "from nltk.stem.lancaster import LancasterStemmer\n",
        "stemmer = LancasterStemmer()\n",
        "\n",
        "#Other\n",
        "import json\n",
        "import pickle\n",
        "import warnings\n",
        "warnings.filterwarnings(\"ignore\")"
      ]
    },
    {
      "cell_type": "code",
      "execution_count": null,
      "metadata": {
        "colab": {
          "base_uri": "https://localhost:8080/"
        },
        "id": "b21KccTJsBjS",
        "outputId": "fcdb7e33-f4d2-4d56-8587-be64a6437dc4"
      },
      "outputs": [
        {
          "output_type": "stream",
          "name": "stdout",
          "text": [
            "Mounted at /content/drive\n"
          ]
        }
      ],
      "source": [
        "\n",
        "from google.colab import drive\n",
        "drive.mount('/content/drive')"
      ]
    },
    {
      "cell_type": "code",
      "execution_count": null,
      "metadata": {
        "colab": {
          "base_uri": "https://localhost:8080/"
        },
        "id": "gk1dv5yauMWr",
        "outputId": "41983145-5a9f-433c-a599-4ecbc95330f4"
      },
      "outputs": [
        {
          "output_type": "stream",
          "name": "stdout",
          "text": [
            "Processing the Intents.....\n"
          ]
        }
      ],
      "source": [
        "import json\n",
        "print(\"Processing the Intents.....\")\n",
        "with open('/content/drive/MyDrive/dataset/intents.json')as json_data:\n",
        "    intents = json.load(json_data)"
      ]
    },
    {
      "cell_type": "code",
      "execution_count": null,
      "metadata": {
        "colab": {
          "base_uri": "https://localhost:8080/"
        },
        "id": "eDbLR3xEvYNK",
        "outputId": "5914592c-e485-476d-87cb-6f03e2850b6b"
      },
      "outputs": [
        {
          "output_type": "stream",
          "name": "stderr",
          "text": [
            "[nltk_data] Downloading package punkt to /root/nltk_data...\n",
            "[nltk_data]   Unzipping tokenizers/punkt.zip.\n"
          ]
        },
        {
          "output_type": "execute_result",
          "data": {
            "text/plain": [
              "True"
            ]
          },
          "metadata": {},
          "execution_count": 5
        }
      ],
      "source": [
        "import nltk\n",
        "nltk.download('punkt')"
      ]
    },
    {
      "cell_type": "code",
      "execution_count": null,
      "metadata": {
        "colab": {
          "base_uri": "https://localhost:8080/"
        },
        "id": "LZrvSOfrvMaD",
        "outputId": "54866abb-2982-4129-932f-be69d69a4cc1"
      },
      "outputs": [
        {
          "output_type": "stream",
          "name": "stdout",
          "text": [
            "Looping through the Intents to Convert them to words, classes, documents and ignore_words.......\n"
          ]
        }
      ],
      "source": [
        "\n",
        "words = []\n",
        "classes = []\n",
        "documents = []\n",
        "ignore_words = ['?']\n",
        "print(\"Looping through the Intents to Convert them to words, classes, documents and ignore_words.......\")\n",
        "for intent in intents['intents']:\n",
        "    for pattern in intent['patterns']:\n",
        "        # tokenize each word in the sentence\n",
        "        w = nltk.word_tokenize(pattern)\n",
        "        # add to our words list\n",
        "        words.extend(w)\n",
        "        # add to documents in our corpus\n",
        "        documents.append((w, intent['tag']))\n",
        "        # add to our classes list\n",
        "        if intent['tag'] not in classes:\n",
        "            classes.append(intent['tag'])"
      ]
    },
    {
      "cell_type": "code",
      "execution_count": null,
      "metadata": {
        "colab": {
          "base_uri": "https://localhost:8080/"
        },
        "id": "vcm_n-XRwDKa",
        "outputId": "9955bb0c-8c44-4b01-c81a-406856d08091"
      },
      "outputs": [
        {
          "output_type": "stream",
          "name": "stdout",
          "text": [
            "Stemming, Lowering and Removing Duplicates.......\n",
            "331 documents\n",
            "86 classes ['ai', 'architecture', 'art', 'astrology', 'beauty', 'beer', 'books', 'cars', 'cocktails', 'coffee', 'communication', 'computer_science', 'cooking', 'creativity', 'cs_community', 'cs_jobs', 'customer service', 'cyber_security', 'dancing', 'data_science', 'dating', 'education', 'entrepreneurship', 'environment', 'family', 'fashion', 'finance', 'fitness', 'food', 'gaming', 'gardening', 'goal-setting', 'goodbye', 'greeting', 'happiness', 'health', 'hiking', 'history', 'hobbies', 'hours', 'innovation', 'jokes', 'language', 'leadership', 'learning_cs', 'love', 'management', 'marketing', 'marriage', 'meditation', 'mopeds', 'motivation', 'movie', 'movies', 'music', 'nature', 'opentoday', 'parenting', 'payments', 'pets', 'philosophy', 'photography', 'pizza', 'politics', 'productivity', 'psychology', 'relationships', 'religion', 'rental', 'restaurant', 'sales', 'self-improvement', 'shoes', 'shopping', 'social media', 'spirituality', 'sports', 'success', 'teamwork', 'technology', 'thanks', 'time management', 'today', 'travel', 'weather', 'wine']\n",
            "482 unique stemmed words ['!', \"'d\", \"'m\", \"'re\", \"'s\", \"'ve\", ',', '.', 'a', 'about', 'acceiv', 'accid', 'achiev', 'aft', 'afterl', 'ai', 'al', 'alon', 'along', 'alway', 'am', 'an', 'and', 'android', 'ang', 'angry', 'anim', 'anxy', 'any', 'anyon', 'anyth', 'anywh', 'ap', 'appl', 'apply', 'apprecy', 'approach', 'ar', 'architect', 'art', 'as', 'ask', 'astrolog', 'at', 'athlet', 'attack', 'avoid', 'bad', 'be', 'beauty', 'been', 'beer', 'bef', 'believ', 'best', 'biggest', 'bir', 'blog', 'book', 'bought', 'brand', 'break', 'budget', 'build', 'busy', 'buy', 'bye', 'cal', 'camer', 'campaign', 'can', 'car', 'card', 'cash', 'cat', 'catch', 'challeng', 'chang', 'chart', 'child', 'cho', 'city', 'class', 'classroom', 'clim', 'clos', 'cloth', 'club', 'cocktail', 'coff', 'col', 'com', 'comfort', 'commun', 'comput', 'conceiv', 'concern', 'conflict', 'convers', 'cook', 'cool', 'cop', 'country', 'cours', 'cowork', 'cre', 'credit', 'crust', 'cryptocur', 'cs', 'cs-related', 'cuisin', 'cur', 'custom', 'cyb', 'dant', 'dat', 'day', 'deal', 'defin', 'degr', 'demo', 'demot', 'design', 'destin', 'dewy', 'did', 'diff', 'difficult', 'digit', 'disciplin', 'discount', 'dish', 'do', 'doe', 'dog', 'doing', 'don', 'down', 'dram', 'dress', 'driv', 'duty', 'eat', 'effect', 'eld', 'elect', 'engl', 'enjoy', 'entrepr', 'environ', 'ev', 'excit', 'expery', 'fac', 'fact', 'fam', 'famy', 'far', 'fash', 'favorit', 'feel', 'film', 'fin', 'first', 'fit', 'flow', 'focus', 'follow', 'food', 'foolproof', 'for', 'foreign', 'fre', 'friend', 'gadget', 'gam', 'get', 'go', 'go-to', 'goal', 'god', 'going', 'gon', 'good', 'goodby', 'grab', 'green', 'group', 'grown', 'had', 'hair', 'handl', 'hap', 'happy', 'has', 'hav', 'heal', 'healthy', 'heard', 'hello', 'help', 'hey', 'hi', 'hik', 'hist', 'hobby', 'horoscop', 'hour', 'how', 'hungry', 'i', 'idea', 'if', 'impact', 'import', 'improv', 'in', 'industry', 'influ', 'innov', 'inspir', 'instru', 'intellig', 'interest', 'invest', 'involv', 'ipa', 'iphon', 'is', 'it', 'itself', 'job', 'jok', 'just', 'keep', 'kid', 'kind', 'know', 'landmark', 'langu', 'last', 'lat', 'latest', 'laugh', 'lead', 'learn', 'lif', 'lik', 'lipstick', 'list', 'long-term', 'look', 'lot', 'lov', 'mai', 'maintain', 'maj', 'mak', 'makeup', 'malbec', 'man', 'market', 'marry', 'mastercard', 'mat', 'me', 'meal', 'mean', 'meas', 'med', 'medit', 'meet', 'memb', 'misbehav', 'money', 'mop', 'morn', 'most', 'mot', 'movy', 'much', 'mus', 'museum', 'my', 'nail', 'nat', 'nee', 'new', 'night', 'now', 'of', 'off', 'oft', 'on', 'onlin', 'op', 'opin', 'or', 'oth', 'out', 'outdo', 'outsid', 'ov', 'overhyp', 'own', 'pair', 'park', 'part', 'peopl', 'perfum', 'period', 'person', 'pet', 'photo', 'photograph', 'pizz', 'plac', 'plant', 'play', 'pol', 'polit', 'potty', 'pract', 'pref', 'pres', 'priorit', 'problem', 'procrastin', 'produc', 'profess', 'program', 'progress', 'project', 'promot', 'prospect', 'qual', 'rain', 'read', 'real', 'rec', 'recip', 'recommend', 'red', 'reduc', 'regul', 'rel', 'relig', 'religy', 'rent', 'rep', 'resourc', 'resta', 'right', 'robot', 'rom', 'routin', 'run', 'sal', 'sav', 'sci', 'scrolls', 'sec', 'secret', 'see', 'seem', 'seen', 'self-esteem', 'self-help', 'set', 'shad', 'shar', 'sho', 'shop', 'should', 'show', 'sibl', 'sign', 'skinc', 'sleep', 'sneak', 'so', 'soc', 'socy', 'som', 'someon', 'soulm', 'sour', 'speak', 'spec', 'spend', 'spirit', 'sport', 'spous', 'start', 'stay', 'stock', 'stor', 'strategies', 'street', 'stress', 'stressed', 'study', 'styl', 'subject', 'success', 'suggest', 'sustain', 'sweet', 'tai', 'tak', 'task', 'team', 'teamwork', 'tech', 'technolog', 'tel', 'thank', 'that', 'the', 'them', 'ther', 'thes', 'thi', 'thick', 'thin', 'thing', 'think', 'threats', 'through', 'thumb', 'tim', 'tip', 'to', 'today', 'toddl', 'tool', 'toward', 'tradit', 'trail', 'train', 'travel', 'trend', 'tri', 'tru', 'try', 'typ', 'umbrell', 'up', 'upcom', 'us', 'veget', 'victim', 'want', 'was', 'watch', 'way', 'we', 'wear', 'weath', 'wel', 'wer', 'what', 'when', 'wher', 'which', 'whit', 'who', 'why', 'wil', 'wildl', 'win', 'with', 'work', 'workplac', 'world', 'would', 'yet', 'yo', 'you', 'yourself', 'zodiac']\n"
          ]
        }
      ],
      "source": [
        "print(\"Stemming, Lowering and Removing Duplicates.......\")\n",
        "words = [stemmer.stem(w.lower()) for w in words if w not in ignore_words]\n",
        "words = sorted(list(set(words)))\n",
        "\n",
        "# remove duplicates\n",
        "classes = sorted(list(set(classes)))\n",
        "\n",
        "print (len(documents), \"documents\")\n",
        "print (len(classes), \"classes\", classes)\n",
        "print (len(words), \"unique stemmed words\", words)"
      ]
    },
    {
      "cell_type": "code",
      "execution_count": null,
      "metadata": {
        "colab": {
          "base_uri": "https://localhost:8080/"
        },
        "id": "HqFxkY2WwIfy",
        "outputId": "7afca54b-7898-4e37-c0d0-9104d97dad56"
      },
      "outputs": [
        {
          "output_type": "stream",
          "name": "stdout",
          "text": [
            "Creating the Data for our Model.....\n",
            "Creating an List (Empty) for Output.....\n",
            "Creating Traning Set, Bag of Words for our Model....\n"
          ]
        }
      ],
      "source": [
        "print(\"Creating the Data for our Model.....\")\n",
        "training = []\n",
        "output = []\n",
        "print(\"Creating an List (Empty) for Output.....\")\n",
        "output_empty = [0] * len(classes)\n",
        "\n",
        "print(\"Creating Traning Set, Bag of Words for our Model....\")\n",
        "for doc in documents:\n",
        "    # initialize our bag of words\n",
        "    bag = []\n",
        "    # list of tokenized words for the pattern\n",
        "    pattern_words = doc[0]\n",
        "    # stem each word\n",
        "    pattern_words = [stemmer.stem(word.lower()) for word in pattern_words]\n",
        "    # create our bag of words array\n",
        "    for w in words:\n",
        "        bag.append(1) if w in pattern_words else bag.append(0)\n",
        "\n",
        "    # output is a '0' for each tag and '1' for current tag\n",
        "    output_row = list(output_empty)\n",
        "    output_row[classes.index(doc[1])] = 1\n",
        "\n",
        "    training.append([bag, output_row])"
      ]
    },
    {
      "cell_type": "code",
      "execution_count": null,
      "metadata": {
        "colab": {
          "base_uri": "https://localhost:8080/"
        },
        "id": "DJQRAk8uwM26",
        "outputId": "3c48f7dc-d24a-4414-d5b2-6e1969ee8155"
      },
      "outputs": [
        {
          "output_type": "stream",
          "name": "stdout",
          "text": [
            "Shuffling Randomly and Converting into Numpy Array for Faster Processing......\n",
            "Creating Train and Test Lists.....\n",
            "Building Neural Network for Out Chatbot to be Contextual....\n",
            "Resetting graph data....\n"
          ]
        }
      ],
      "source": [
        "print(\"Shuffling Randomly and Converting into Numpy Array for Faster Processing......\")\n",
        "random.shuffle(training)\n",
        "training = np.array(training)\n",
        "\n",
        "print(\"Creating Train and Test Lists.....\")\n",
        "train_x = list(training[:,0])\n",
        "train_y = list(training[:,1])\n",
        "print(\"Building Neural Network for Out Chatbot to be Contextual....\")\n",
        "print(\"Resetting graph data....\")\n",
        "tf.compat.v1.reset_default_graph()"
      ]
    },
    {
      "cell_type": "code",
      "execution_count": null,
      "metadata": {
        "colab": {
          "base_uri": "https://localhost:8080/"
        },
        "id": "DSqc8k-gwfXD",
        "outputId": "8fe6aefa-b05a-46dc-c28a-5f8a85c1d089"
      },
      "outputs": [
        {
          "output_type": "stream",
          "name": "stderr",
          "text": [
            "WARNING:tensorflow:From /usr/local/lib/python3.10/dist-packages/tflearn/initializations.py:164: calling TruncatedNormal.__init__ (from tensorflow.python.ops.init_ops) with dtype is deprecated and will be removed in a future version.\n",
            "Instructions for updating:\n",
            "Call initializer instance with the dtype argument instead of passing it to the constructor\n"
          ]
        },
        {
          "output_type": "stream",
          "name": "stdout",
          "text": [
            "Training....\n"
          ]
        }
      ],
      "source": [
        "net = tflearn.input_data(shape=[None, len(train_x[0])])\n",
        "net = tflearn.fully_connected(net, 8)\n",
        "net = tflearn.fully_connected(net, 8)\n",
        "net = tflearn.fully_connected(net, len(train_y[0]), activation='softmax')\n",
        "net = tflearn.regression(net)\n",
        "print(\"Training....\")"
      ]
    },
    {
      "cell_type": "code",
      "execution_count": null,
      "metadata": {
        "id": "IKjcj3DywidB"
      },
      "outputs": [],
      "source": [
        "model = tflearn.DNN(net, tensorboard_dir='tflearn_logs')"
      ]
    },
    {
      "cell_type": "code",
      "execution_count": null,
      "metadata": {
        "colab": {
          "base_uri": "https://localhost:8080/"
        },
        "id": "TMY97vhTwk1Z",
        "outputId": "12ef3a57-c8c2-4e3b-d0e0-3080e499f5d2"
      },
      "outputs": [
        {
          "output_type": "stream",
          "name": "stdout",
          "text": [
            "Training Step: 41999  | total loss: \u001b[1m\u001b[32m0.00824\u001b[0m\u001b[0m | time: 0.221s\n",
            "| Adam | epoch: 1000 | loss: 0.00824 - acc: 0.9992 -- iter: 328/331\n",
            "Training Step: 42000  | total loss: \u001b[1m\u001b[32m0.00742\u001b[0m\u001b[0m | time: 0.226s\n",
            "| Adam | epoch: 1000 | loss: 0.00742 - acc: 0.9993 -- iter: 331/331\n",
            "--\n",
            "Saving the Model.......\n"
          ]
        }
      ],
      "source": [
        "print(\"Training the Model.......\")\n",
        "model.fit(train_x, train_y, n_epoch=1000, batch_size=8, show_metric=True)\n",
        "print(\"Saving the Model.......\")\n",
        "model.save('model.tflearn')"
      ]
    },
    {
      "cell_type": "code",
      "execution_count": null,
      "metadata": {
        "colab": {
          "base_uri": "https://localhost:8080/"
        },
        "id": "NvFgqYoD6YOF",
        "outputId": "96d81836-a4ef-45f3-d3db-75565a04e6a7"
      },
      "outputs": [
        {
          "output_type": "stream",
          "name": "stdout",
          "text": [
            "Pickle is also Saved..........\n"
          ]
        }
      ],
      "source": [
        "print(\"Pickle is also Saved..........\")\n",
        "pickle.dump( {'words':words, 'classes':classes, 'train_x':train_x, 'train_y':train_y}, open( \"training_data\", \"wb\" ) )"
      ]
    },
    {
      "cell_type": "code",
      "execution_count": null,
      "metadata": {
        "colab": {
          "base_uri": "https://localhost:8080/"
        },
        "id": "06o1NGqVwnxq",
        "outputId": "569fe450-32f7-4d76-fce7-f8804b63ba99"
      },
      "outputs": [
        {
          "output_type": "stream",
          "name": "stdout",
          "text": [
            "Loading Pickle.....\n",
            "Loading the Model......\n"
          ]
        }
      ],
      "source": [
        "print(\"Loading Pickle.....\")\n",
        "data = pickle.load( open( \"training_data\", \"rb\" ) )\n",
        "words = data['words']\n",
        "classes = data['classes']\n",
        "train_x = data['train_x']\n",
        "train_y = data['train_y']\n",
        "\n",
        "\n",
        "with open('/content/drive/MyDrive/dataset/intents.json')as json_data:\n",
        "    intents = json.load(json_data)\n",
        "    \n",
        "print(\"Loading the Model......\")\n",
        "# load our saved model\n",
        "model.load('./model.tflearn')"
      ]
    },
    {
      "cell_type": "code",
      "execution_count": null,
      "metadata": {
        "colab": {
          "base_uri": "https://localhost:8080/"
        },
        "id": "3s2BLfml6prM",
        "outputId": "15490767-140a-44a1-fd2d-e5da0137659f"
      },
      "outputs": [
        {
          "output_type": "stream",
          "name": "stdout",
          "text": [
            "ERROR_THRESHOLD = 0.25\n"
          ]
        }
      ],
      "source": [
        "def clean_up_sentence(sentence):\n",
        "    # It Tokenize or Break it into the constituents parts of Sentense.\n",
        "    sentence_words = nltk.word_tokenize(sentence)\n",
        "    # Stemming means to find the root of the word.\n",
        "    sentence_words = [stemmer.stem(word.lower()) for word in sentence_words]\n",
        "    return sentence_words\n",
        "\n",
        "# Return the Array of Bag of Words: True or False and 0 or 1 for each word of bag that exists in the Sentence\n",
        "def bow(sentence, words, show_details=False):\n",
        "    sentence_words = clean_up_sentence(sentence)\n",
        "    bag = [0]*len(words)\n",
        "    for s in sentence_words:\n",
        "        for i,w in enumerate(words):\n",
        "            if w == s:\n",
        "                bag[i] = 1\n",
        "                if show_details:\n",
        "                    print (\"found in bag: %s\" % w)\n",
        "    return(np.array(bag))\n",
        "\n",
        "ERROR_THRESHOLD = 0.25\n",
        "print(\"ERROR_THRESHOLD = 0.25\")\n",
        "\n",
        "def classify(sentence):\n",
        "    # Prediction or To Get the Posibility or Probability from the Model\n",
        "    results = model.predict([bow(sentence, words)])[0]\n",
        "    # Exclude those results which are Below Threshold\n",
        "    results = [[i,r] for i,r in enumerate(results) if r>ERROR_THRESHOLD]\n",
        "    # Sorting is Done because heigher Confidence Answer comes first.\n",
        "    results.sort(key=lambda x: x[1], reverse=True)\n",
        "    return_list = []\n",
        "    for r in results:\n",
        "        return_list.append((classes[r[0]], r[1])) #Tuppl -> Intent and Probability\n",
        "    return return_list\n",
        "\n",
        "def response(sentence, userID='123', show_details=False):\n",
        "    results = classify(sentence)\n",
        "    # That Means if Classification is Done then Find the Matching Tag.\n",
        "    if results:\n",
        "        # Long Loop to get the Result.\n",
        "        while results:\n",
        "            for i in intents['intents']:\n",
        "                # Tag Finding\n",
        "                if i['tag'] == results[0][0]:\n",
        "                    # Random Response from High Order Probabilities\n",
        "                    return print(random.choice(i['responses']))\n",
        "\n",
        "            results.pop(0)"
      ]
    },
    {
      "cell_type": "code",
      "execution_count": null,
      "metadata": {
        "colab": {
          "base_uri": "https://localhost:8080/",
          "height": 1000
        },
        "id": "Dg6Qvjpd6t9j",
        "outputId": "32b51852-4774-49fa-a0aa-410864ce23b8"
      },
      "outputs": [
        {
          "output_type": "stream",
          "name": "stdout",
          "text": [
            "You- hi\n",
            "Good to see you again\n",
            "You- what the weather like\n",
            "It's sunny and warm today!\n",
            "You- tell me a joke\n",
            "Why don't scientists trust atoms? Because they make up everything!\n",
            "You- do you like to travel\n",
            "My favorite travel destination is Paris, it's such a beautiful city\n",
            "You- what are your hobbies\n",
            "In my free time, I like to practice yoga, watch movies, and cook new recipes.\n",
            "You- do you like to read\n",
            "My favorite book is '1984' by George Orwell\n",
            "You- do you like technology\n",
            "My favorite productivity app is Todoist.\n",
            "You- do you speak any other language\n",
            "I learned English in school and by watching TV shows and movies in English.\n",
            "You- do you have any political opinion\n",
            "I try to stay neutral when it comes to politics, but it's hard not to have an opinion these days.\n",
            "You- how do you manage time effectively\n",
            "To prioritize tasks, I use the Eisenhower Matrix. It helps me identify what's important and what's urgent.\n",
            "You- what do you think of data science\n",
            "I've dabbled in data science a bit, but I wouldn't call myself an expert.\n",
            "You- good bye\n",
            "Bye! Come back again soon.\n",
            "You- whats your opinion about team work\n",
            "I think a good leader should be a good listener and communicator.\n",
            "You- please give me communication skill tips\n",
            "We rent Yamaha, Piaggio and Vespa mopeds\n",
            "You- marriage\n",
            "Communication, compromise, and a willingness to work through challenges together are all important for a happy marriage.\n",
            "You- love\n",
            "I don't meditate, but I know some people find it helpful.\n",
            "You- relationship\n",
            "Trust and communication are key for me. Without those, it's hard to build a strong relationship.\n",
            "You- favourite food\n",
            "I had the most delicious steak at a fancy restaurant last week.\n",
            "You- education\n",
            "Good to see you again\n"
          ]
        },
        {
          "output_type": "error",
          "ename": "KeyboardInterrupt",
          "evalue": "ignored",
          "traceback": [
            "\u001b[0;31m---------------------------------------------------------------------------\u001b[0m",
            "\u001b[0;31mKeyboardInterrupt\u001b[0m                         Traceback (most recent call last)",
            "\u001b[0;32m<ipython-input-18-b154cd173fb0>\u001b[0m in \u001b[0;36m<cell line: 1>\u001b[0;34m()\u001b[0m\n\u001b[1;32m      1\u001b[0m \u001b[0;32mwhile\u001b[0m \u001b[0;32mTrue\u001b[0m\u001b[0;34m:\u001b[0m\u001b[0;34m\u001b[0m\u001b[0;34m\u001b[0m\u001b[0m\n\u001b[0;32m----> 2\u001b[0;31m     \u001b[0minput_data\u001b[0m \u001b[0;34m=\u001b[0m \u001b[0minput\u001b[0m\u001b[0;34m(\u001b[0m\u001b[0;34m\"You- \"\u001b[0m\u001b[0;34m)\u001b[0m\u001b[0;34m\u001b[0m\u001b[0;34m\u001b[0m\u001b[0m\n\u001b[0m\u001b[1;32m      3\u001b[0m     \u001b[0manswer\u001b[0m \u001b[0;34m=\u001b[0m \u001b[0mresponse\u001b[0m\u001b[0;34m(\u001b[0m\u001b[0minput_data\u001b[0m\u001b[0;34m)\u001b[0m\u001b[0;34m\u001b[0m\u001b[0;34m\u001b[0m\u001b[0m\n\u001b[1;32m      4\u001b[0m     \u001b[0manswer\u001b[0m\u001b[0;34m\u001b[0m\u001b[0;34m\u001b[0m\u001b[0m\n",
            "\u001b[0;32m/usr/local/lib/python3.10/dist-packages/ipykernel/kernelbase.py\u001b[0m in \u001b[0;36mraw_input\u001b[0;34m(self, prompt)\u001b[0m\n\u001b[1;32m    849\u001b[0m                 \u001b[0;34m\"raw_input was called, but this frontend does not support input requests.\"\u001b[0m\u001b[0;34m\u001b[0m\u001b[0;34m\u001b[0m\u001b[0m\n\u001b[1;32m    850\u001b[0m             )\n\u001b[0;32m--> 851\u001b[0;31m         return self._input_request(str(prompt),\n\u001b[0m\u001b[1;32m    852\u001b[0m             \u001b[0mself\u001b[0m\u001b[0;34m.\u001b[0m\u001b[0m_parent_ident\u001b[0m\u001b[0;34m,\u001b[0m\u001b[0;34m\u001b[0m\u001b[0;34m\u001b[0m\u001b[0m\n\u001b[1;32m    853\u001b[0m             \u001b[0mself\u001b[0m\u001b[0;34m.\u001b[0m\u001b[0m_parent_header\u001b[0m\u001b[0;34m,\u001b[0m\u001b[0;34m\u001b[0m\u001b[0;34m\u001b[0m\u001b[0m\n",
            "\u001b[0;32m/usr/local/lib/python3.10/dist-packages/ipykernel/kernelbase.py\u001b[0m in \u001b[0;36m_input_request\u001b[0;34m(self, prompt, ident, parent, password)\u001b[0m\n\u001b[1;32m    893\u001b[0m             \u001b[0;32mexcept\u001b[0m \u001b[0mKeyboardInterrupt\u001b[0m\u001b[0;34m:\u001b[0m\u001b[0;34m\u001b[0m\u001b[0;34m\u001b[0m\u001b[0m\n\u001b[1;32m    894\u001b[0m                 \u001b[0;31m# re-raise KeyboardInterrupt, to truncate traceback\u001b[0m\u001b[0;34m\u001b[0m\u001b[0;34m\u001b[0m\u001b[0m\n\u001b[0;32m--> 895\u001b[0;31m                 \u001b[0;32mraise\u001b[0m \u001b[0mKeyboardInterrupt\u001b[0m\u001b[0;34m(\u001b[0m\u001b[0;34m\"Interrupted by user\"\u001b[0m\u001b[0;34m)\u001b[0m \u001b[0;32mfrom\u001b[0m \u001b[0;32mNone\u001b[0m\u001b[0;34m\u001b[0m\u001b[0;34m\u001b[0m\u001b[0m\n\u001b[0m\u001b[1;32m    896\u001b[0m             \u001b[0;32mexcept\u001b[0m \u001b[0mException\u001b[0m \u001b[0;32mas\u001b[0m \u001b[0me\u001b[0m\u001b[0;34m:\u001b[0m\u001b[0;34m\u001b[0m\u001b[0;34m\u001b[0m\u001b[0m\n\u001b[1;32m    897\u001b[0m                 \u001b[0mself\u001b[0m\u001b[0;34m.\u001b[0m\u001b[0mlog\u001b[0m\u001b[0;34m.\u001b[0m\u001b[0mwarning\u001b[0m\u001b[0;34m(\u001b[0m\u001b[0;34m\"Invalid Message:\"\u001b[0m\u001b[0;34m,\u001b[0m \u001b[0mexc_info\u001b[0m\u001b[0;34m=\u001b[0m\u001b[0;32mTrue\u001b[0m\u001b[0;34m)\u001b[0m\u001b[0;34m\u001b[0m\u001b[0;34m\u001b[0m\u001b[0m\n",
            "\u001b[0;31mKeyboardInterrupt\u001b[0m: Interrupted by user"
          ]
        }
      ],
      "source": [
        "\n",
        "while True:\n",
        "    input_data = input(\"You- \")\n",
        "    answer = response(input_data)\n",
        "    answer"
      ]
    }
  ],
  "metadata": {
    "colab": {
      "provenance": [],
      "authorship_tag": "ABX9TyOIcjeZx8U5O+Og3alSamhj",
      "include_colab_link": true
    },
    "kernelspec": {
      "display_name": "Python 3",
      "name": "python3"
    },
    "language_info": {
      "name": "python"
    }
  },
  "nbformat": 4,
  "nbformat_minor": 0
}